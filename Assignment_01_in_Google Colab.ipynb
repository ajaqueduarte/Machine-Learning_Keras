{
  "cells": [
    {
      "cell_type": "markdown",
      "metadata": {
        "id": "lZo3okeQV8qE"
      },
      "source": [
        "#Comp 3132 Assignment 1"
      ]
    },
    {
      "cell_type": "code",
      "execution_count": null,
      "metadata": {
        "id": "cJzTjTiUjzCK"
      },
      "outputs": [],
      "source": [
        "from keras.datasets import fashion_mnist\n",
        "import matplotlib.pyplot as plt\n",
        "from tensorflow.keras import utils\n",
        "from tensorflow.keras.utils import to_categorical"
      ]
    },
    {
      "cell_type": "code",
      "execution_count": null,
      "metadata": {
        "id": "lgC5Lrmzj3cm"
      },
      "outputs": [],
      "source": [
        "(train_images, train_labels), (test_images, test_labels) = fashion_mnist.load_data()"
      ]
    },
    {
      "cell_type": "markdown",
      "metadata": {
        "id": "X1HMPSWEjb5v"
      },
      "source": [
        "0: T-shirt/top\n",
        "\n",
        "1: Trouser\n",
        "\n",
        "2: Pullover\n",
        "\n",
        "3: Dress\n",
        "\n",
        "4: Coat\n",
        "\n",
        "5: Sandal\n",
        "\n",
        "6: Shirt\n",
        "\n",
        "7: Sneaker\n",
        "\n",
        "8: Bag\n",
        "\n",
        "9: Ankle boot\n"
      ]
    },
    {
      "cell_type": "markdown",
      "metadata": {
        "id": "d-Y57RecS2Ie"
      },
      "source": [
        "###1. What are the dimensions of train_images, train_labels, test_images, and test_labels?\n",
        "\n",
        "\n"
      ]
    },
    {
      "cell_type": "code",
      "execution_count": null,
      "metadata": {
        "colab": {
          "base_uri": "https://localhost:8080/"
        },
        "id": "SoTXWzahkHe3",
        "outputId": "b30bd133-ff95-43ed-dcb8-ebd3e41e7209"
      },
      "outputs": [
        {
          "name": "stdout",
          "output_type": "stream",
          "text": [
            "3\n"
          ]
        },
        {
          "data": {
            "text/plain": [
              "(60000, 28, 28)"
            ]
          },
          "execution_count": 302,
          "metadata": {},
          "output_type": "execute_result"
        }
      ],
      "source": []
    },
    {
      "cell_type": "code",
      "execution_count": null,
      "metadata": {
        "colab": {
          "base_uri": "https://localhost:8080/"
        },
        "id": "beQud0KSkLRy",
        "outputId": "c2c0a899-c8b2-4709-9075-6e49bc601fa7"
      },
      "outputs": [
        {
          "name": "stdout",
          "output_type": "stream",
          "text": [
            "1\n"
          ]
        },
        {
          "data": {
            "text/plain": [
              "(60000,)"
            ]
          },
          "execution_count": 303,
          "metadata": {},
          "output_type": "execute_result"
        }
      ],
      "source": []
    },
    {
      "cell_type": "code",
      "execution_count": null,
      "metadata": {
        "colab": {
          "base_uri": "https://localhost:8080/"
        },
        "id": "q0t0eBzRkc42",
        "outputId": "ecab4319-d675-4aef-dc60-f53a1156eeb4"
      },
      "outputs": [
        {
          "name": "stdout",
          "output_type": "stream",
          "text": [
            "3\n"
          ]
        },
        {
          "data": {
            "text/plain": [
              "(10000, 28, 28)"
            ]
          },
          "execution_count": 304,
          "metadata": {},
          "output_type": "execute_result"
        }
      ],
      "source": []
    },
    {
      "cell_type": "code",
      "execution_count": null,
      "metadata": {
        "colab": {
          "base_uri": "https://localhost:8080/"
        },
        "id": "fUfywTlRkiby",
        "outputId": "3419412a-700a-4c51-9b22-9a77a84dcdf3"
      },
      "outputs": [
        {
          "name": "stdout",
          "output_type": "stream",
          "text": [
            "1\n"
          ]
        },
        {
          "data": {
            "text/plain": [
              "(10000,)"
            ]
          },
          "execution_count": 305,
          "metadata": {},
          "output_type": "execute_result"
        }
      ],
      "source": []
    },
    {
      "cell_type": "markdown",
      "metadata": {
        "id": "Q39D88DqS9pN"
      },
      "source": [
        "###2. What are the lengths of train_labels and test_labels?"
      ]
    },
    {
      "cell_type": "code",
      "execution_count": null,
      "metadata": {
        "colab": {
          "base_uri": "https://localhost:8080/"
        },
        "id": "HyPqWWIAkvZt",
        "outputId": "f0ee64cf-63ae-4e8f-b848-4a0a77444461"
      },
      "outputs": [
        {
          "data": {
            "text/plain": [
              "60000"
            ]
          },
          "execution_count": 306,
          "metadata": {},
          "output_type": "execute_result"
        }
      ],
      "source": []
    },
    {
      "cell_type": "code",
      "execution_count": null,
      "metadata": {
        "colab": {
          "base_uri": "https://localhost:8080/"
        },
        "id": "IagiX0vfkxrW",
        "outputId": "5b82dfe1-7bc7-4ec8-c927-5da0b094ae22"
      },
      "outputs": [
        {
          "data": {
            "text/plain": [
              "10000"
            ]
          },
          "execution_count": 307,
          "metadata": {},
          "output_type": "execute_result"
        }
      ],
      "source": []
    },
    {
      "cell_type": "markdown",
      "metadata": {
        "id": "CAxaUwlMTHMX"
      },
      "source": [
        "###3. Please show some of train and test labels.\n"
      ]
    },
    {
      "cell_type": "code",
      "execution_count": null,
      "metadata": {
        "colab": {
          "base_uri": "https://localhost:8080/"
        },
        "id": "NKBSxNbvk1gQ",
        "outputId": "fdac0d28-aec9-48b6-b5bd-93f80b7e6151"
      },
      "outputs": [
        {
          "name": "stdout",
          "output_type": "stream",
          "text": [
            "3 0 2\n"
          ]
        }
      ],
      "source": []
    },
    {
      "cell_type": "code",
      "execution_count": null,
      "metadata": {
        "colab": {
          "base_uri": "https://localhost:8080/"
        },
        "id": "DOjOohfUlVOX",
        "outputId": "c249cb82-fe31-492b-8150-e31e4a66d15d"
      },
      "outputs": [
        {
          "name": "stdout",
          "output_type": "stream",
          "text": [
            "0 6 2\n"
          ]
        }
      ],
      "source": []
    },
    {
      "cell_type": "markdown",
      "metadata": {
        "id": "aK5eCTzsTOKn"
      },
      "source": [
        "###4. Please show the digital content of image index 5 in the training dataset.\n"
      ]
    },
    {
      "cell_type": "code",
      "execution_count": null,
      "metadata": {
        "colab": {
          "base_uri": "https://localhost:8080/"
        },
        "id": "0Lx_oeWelfMl",
        "outputId": "ae75e798-4305-4d02-ad7e-e263c62dd937"
      },
      "outputs": [
        {
          "data": {
            "text/plain": [
              "array([[  0,   0,   0,   0,   1,   0,   0,   0,   0,  22,  88, 188, 172,\n",
              "        132, 125, 141, 199, 143,   9,   0,   0,   0,   1,   0,   0,   0,\n",
              "          0,   0],\n",
              "       [  0,   0,   0,   1,   0,   0,  20, 131, 199, 206, 196, 202, 242,\n",
              "        255, 255, 250, 222, 197, 206, 188, 126,  17,   0,   0,   0,   0,\n",
              "          0,   0],\n",
              "       [  0,   0,   0,   1,   0,  35, 214, 191, 183, 178, 175, 168, 150,\n",
              "        162, 159, 152, 158, 179, 183, 189, 195, 185,  82,   0,   0,   0,\n",
              "          0,   0],\n",
              "       [  0,   0,   0,   0,   0, 170, 190, 172, 177, 176, 171, 169, 162,\n",
              "        155, 148, 154, 169, 174, 175, 175, 177, 183, 188,  12,   0,   0,\n",
              "          0,   0],\n",
              "       [  0,   0,   0,   0,  25, 194, 180, 178, 174, 184, 187, 189, 187,\n",
              "        184, 181, 189, 200, 197, 193, 190, 178, 175, 194,  90,   0,   0,\n",
              "          0,   0],\n",
              "       [  0,   0,   0,   0,  42, 218, 191, 197, 208, 204, 211, 209, 210,\n",
              "        212, 211, 214, 215, 213, 214, 211, 211, 191, 200, 158,   0,   0,\n",
              "          0,   0],\n",
              "       [  0,   0,   0,   0,  88, 221, 215, 217, 219, 211, 185, 150, 118,\n",
              "        107,  99,  88,  83,  90, 135, 212, 203, 207, 219, 169,   0,   0,\n",
              "          0,   0],\n",
              "       [  0,   0,   0,   0,   0,  27, 118, 162,  40,   0,   0,   0,  10,\n",
              "         19,  28,  39,  47,  36,   0,   0, 203, 230, 220, 203,   0,   0,\n",
              "          0,   0],\n",
              "       [  0,   0,   0,   0, 138, 136,  71,  69,  54, 216, 217, 203, 184,\n",
              "        168, 163, 162, 163, 178, 221, 186,  38,  26,   7,   0,   0,   0,\n",
              "          0,   0],\n",
              "       [  0,   0,   0,   0,  67, 134, 154, 224, 129,  66,  81, 117, 129,\n",
              "        128, 132, 137, 131, 129,  86,  73, 157, 151, 134, 216,  18,   0,\n",
              "          0,   0],\n",
              "       [  0,   0,   0,   0, 203, 198, 172, 183, 206, 255, 255, 250, 243,\n",
              "        240, 239, 235, 238, 244, 255, 238, 184, 160,  86,  98,   0,   0,\n",
              "          0,   0],\n",
              "       [  0,   0,   0,   0, 122, 188, 224, 151, 105, 127,  97, 100, 105,\n",
              "        114, 117, 117, 113, 103,  98, 111, 142, 254, 191, 255,  49,   0,\n",
              "          0,   0],\n",
              "       [  0,   0,   0,   0, 163, 179, 200,  95, 154, 198, 197, 200, 200,\n",
              "        198, 197, 198, 199, 202, 200, 176,  86, 206, 157, 162,  10,   0,\n",
              "          0,   0],\n",
              "       [  0,   0,   0,   0, 197, 201, 229,  71, 144, 194, 181, 183, 179,\n",
              "        182, 180, 179, 180, 190, 185, 197,  76, 219, 185, 201,  34,   0,\n",
              "          0,   0],\n",
              "       [  0,   0,   0,   0, 199, 193, 226,  58, 154, 192, 184, 187, 184,\n",
              "        186, 184, 185, 183, 192, 191, 200,  56, 219, 203, 207,  60,   0,\n",
              "          0,   0],\n",
              "       [  0,   0,   0,   0, 201, 194, 224,  41, 163, 190, 186, 186, 184,\n",
              "        185, 183, 185, 178, 190, 194, 202,  33, 211, 200, 206,  73,   0,\n",
              "          0,   0],\n",
              "       [  0,   0,   0,   0, 201, 197, 222,  17, 172, 190, 186, 187, 182,\n",
              "        186, 185, 187, 180, 187, 193, 202,  26, 212, 202, 203,  76,   0,\n",
              "          0,   0],\n",
              "       [  0,   0,   0,   0, 200, 197, 223,   0, 177, 189, 184, 185, 178,\n",
              "        184, 183, 184, 180, 183, 189, 203,  35, 196, 203, 203,  84,   0,\n",
              "          0,   0],\n",
              "       [  0,   0,   0,   0, 200, 197, 223,   0, 185, 187, 185, 187, 180,\n",
              "        184, 182, 183, 178, 182, 183, 205,  44, 159, 207, 201,  85,   0,\n",
              "          0,   0],\n",
              "       [  0,   0,   0,   0, 187, 198, 225,   0, 194, 188, 184, 185, 180,\n",
              "        183, 183, 184, 181, 181, 177, 206,  46, 129, 211, 200,  88,   0,\n",
              "          0,   0],\n",
              "       [  0,   0,   0,   6, 186, 200, 211,   0, 199, 189, 184, 184, 185,\n",
              "        182, 183, 184, 185, 182, 175, 205,  50,  97, 216, 197,  93,   0,\n",
              "          0,   0],\n",
              "       [  0,   0,   0,   5, 185, 204, 184,   0, 202, 188, 182, 182, 183,\n",
              "        183, 184, 182, 180, 182, 174, 202,  63,  59, 220, 196,  94,   0,\n",
              "          0,   0],\n",
              "       [  0,   0,   0,   5, 184, 206, 157,   0, 204, 187, 187, 189, 192,\n",
              "        190, 190, 191, 190, 187, 183, 202,  78,  35, 222, 197,  95,   0,\n",
              "          0,   0],\n",
              "       [  0,   0,   0,   5, 183, 208, 127,   0, 197, 166, 153, 149, 149,\n",
              "        146, 148, 149, 150, 151, 158, 191,  90,   8, 223, 195,  99,   0,\n",
              "          0,   0],\n",
              "       [  0,   0,   0,   6, 184, 208, 114,   0, 204, 173, 161, 180, 176,\n",
              "        172, 173, 173, 174, 176, 162, 202, 115,   0, 229, 199, 105,   0,\n",
              "          0,   0],\n",
              "       [  0,   0,   0,   9, 178, 204, 115,   0, 121, 135, 114, 117, 114,\n",
              "        114, 117, 118, 119, 117, 113, 147,  63,   0, 225, 196, 107,   0,\n",
              "          0,   0],\n",
              "       [  0,   0,   0,  18, 180, 206, 131,   0,   0,   0,   0,   0,   0,\n",
              "          0,   0,   0,   0,   0,   0,   0,   0,   0, 224, 197, 123,   0,\n",
              "          0,   0],\n",
              "       [  0,   0,   0,   0, 141, 151,  76,   0,   1,   1,   0,   0,   0,\n",
              "          0,   0,   0,   0,   0,   0,   0,   0,   0, 133, 167,  73,   0,\n",
              "          0,   0]], dtype=uint8)"
            ]
          },
          "execution_count": 310,
          "metadata": {},
          "output_type": "execute_result"
        }
      ],
      "source": []
    },
    {
      "cell_type": "markdown",
      "metadata": {
        "id": "eLeRNVaFTc26"
      },
      "source": [
        "###5. Please plot the image of the index 5 in the training dataset.\n"
      ]
    },
    {
      "cell_type": "code",
      "execution_count": null,
      "metadata": {
        "colab": {
          "base_uri": "https://localhost:8080/",
          "height": 282
        },
        "id": "FHUJpv5Jly6d",
        "outputId": "40e70cd8-fff3-44da-962d-d12af02d6808"
      },
      "outputs": [
        {
          "data": {
            "text/plain": [
              "<function matplotlib.pyplot.show>"
            ]
          },
          "execution_count": 311,
          "metadata": {},
          "output_type": "execute_result"
        },
        {
          "data": {
            "image/png": "[encoded data removed]",
            "text/plain": [
              "<Figure size 432x288 with 1 Axes>"
            ]
          },
          "metadata": {
            "needs_background": "light"
          },
          "output_type": "display_data"
        }
      ],
      "source": []
    },
    {
      "cell_type": "code",
      "execution_count": null,
      "metadata": {
        "colab": {
          "base_uri": "https://localhost:8080/",
          "height": 282
        },
        "id": "cN8auVRLmCK5",
        "outputId": "6c116c70-9132-4b52-8684-83ac3c91bb2e"
      },
      "outputs": [
        {
          "data": {
            "text/plain": [
              "<function matplotlib.pyplot.show>"
            ]
          },
          "execution_count": 312,
          "metadata": {},
          "output_type": "execute_result"
        },
        {
          "data": {
            "image/png": "[encoded data removed]",
            "text/plain": [
              "<Figure size 432x288 with 1 Axes>"
            ]
          },
          "metadata": {
            "needs_background": "light"
          },
          "output_type": "display_data"
        }
      ],
      "source": []
    },
    {
      "cell_type": "code",
      "execution_count": null,
      "metadata": {
        "colab": {
          "base_uri": "https://localhost:8080/",
          "height": 282
        },
        "id": "M1yiiNDomTnn",
        "outputId": "99e9f281-66fc-4337-8f5a-1e0040997b1b"
      },
      "outputs": [
        {
          "data": {
            "text/plain": [
              "<function matplotlib.pyplot.show>"
            ]
          },
          "execution_count": 313,
          "metadata": {},
          "output_type": "execute_result"
        },
        {
          "data": {
            "image/png": "[encoded data removed]",
            "text/plain": [
              "<Figure size 432x288 with 1 Axes>"
            ]
          },
          "metadata": {
            "needs_background": "light"
          },
          "output_type": "display_data"
        }
      ],
      "source": []
    },
    {
      "cell_type": "markdown",
      "metadata": {
        "id": "YX7dt3OeToZY"
      },
      "source": [
        "###6. What is the label for the index 5 in the train_label and looking up in the above list, what does it mean?\n"
      ]
    },
    {
      "cell_type": "code",
      "execution_count": null,
      "metadata": {
        "colab": {
          "base_uri": "https://localhost:8080/"
        },
        "id": "muO7pxSXmbYz",
        "outputId": "27bc1825-5303-4897-8a4f-b3176620d7ac"
      },
      "outputs": [
        {
          "data": {
            "text/plain": [
              "2"
            ]
          },
          "execution_count": 314,
          "metadata": {},
          "output_type": "execute_result"
        }
      ],
      "source": []
    },
    {
      "cell_type": "markdown",
      "metadata": {
        "id": "XIMxjZlMTwN8"
      },
      "source": [
        "###7. Please show the digital content of image index 500 in the testing\n"
      ]
    },
    {
      "cell_type": "code",
      "execution_count": null,
      "metadata": {
        "colab": {
          "base_uri": "https://localhost:8080/"
        },
        "id": "9voCEbK7mhUv",
        "outputId": "6ec5a1cc-00dd-48e0-c4aa-4d28384f2189"
      },
      "outputs": [
        {
          "data": {
            "text/plain": [
              "array([[  0,   0,   0,   0,   0,   0,   0,   0,   0,   0, 108,  93,  38,\n",
              "          0,   0,   0,   8,  76, 140,  34,   0,   0,   0,   1,   1,   0,\n",
              "          0,   0],\n",
              "       [  0,   0,   0,   0,   0,   0,   0,  30,  92,  69, 192, 183, 149,\n",
              "        214, 177, 194, 227, 154, 206, 143,  79,  46,   0,   0,   0,   0,\n",
              "          0,   0],\n",
              "       [  0,   0,   0,   0,   0,   0,  59, 127, 116,  85,  63, 184, 128,\n",
              "        104,   0,  10, 126, 138, 145,  59, 104, 118,  86,   0,   0,   0,\n",
              "          0,   0],\n",
              "       [  0,   0,   0,   0,   0,   3,  99,  92,  81,  81,  54,  67, 222,\n",
              "        255, 209, 206, 178, 184,  72,  69,  97,  97, 118,  24,   0,   2,\n",
              "          0,   0],\n",
              "       [  0,   0,   1,   1,   0,  60, 121, 138,  83,  64,  76,  68,  23,\n",
              "         35,  55,  52,  46,  36,  65,  72,  72,  76, 102, 110,   0,   0,\n",
              "          0,   0],\n",
              "       [  0,   0,   0,   0,   0, 112,  89,  52,  89,  72,  67,  69,  81,\n",
              "         73,  60,  71,  64,  55,  52,  73,  77,  88, 104, 108,  10,   0,\n",
              "          1,   0],\n",
              "       [  0,   0,   0,   0,  21, 110, 143, 131,  55, 181, 128,  54,  36,\n",
              "        158, 185,  44,  74, 150, 154,  71,  96,  88, 105, 131,  50,   0,\n",
              "          0,   0],\n",
              "       [  0,   0,   2,   0,  52, 139,  90,  99,  77, 187, 134, 238,  68,\n",
              "        203, 127,  31, 158, 165, 191,  73,  95,  83,  86,  91,  85,   0,\n",
              "          0,   0],\n",
              "       [  0,   0,   0,   0,  97, 104, 119, 135,  95, 137, 156, 209, 158,\n",
              "        185,  67,  91, 199, 150, 218, 123,  78, 106,  91, 129, 106,   0,\n",
              "          0,   0],\n",
              "       [  0,   0,   0,   0, 109,  97, 129, 109,  80, 154, 183, 153, 178,\n",
              "        170,  78, 178, 228, 156, 214, 135, 112,  92,  91, 101, 127,   4,\n",
              "          0,   0],\n",
              "       [  0,   0,   0,  10, 125, 102, 120, 146,  99, 189, 238,  76, 139,\n",
              "        111,  63, 238, 172,  48, 249,  91,  79,  79, 146, 110, 111,  35,\n",
              "          0,   0],\n",
              "       [  0,   0,   0,  32, 147,  78, 156, 143,  55, 165, 175,  64, 142,\n",
              "        114,  62, 152, 107,  68, 213,  90, 108, 155, 211,  74, 143,  53,\n",
              "          0,   0],\n",
              "       [  0,   0,   0,  46, 127, 105, 124, 246,  90,  69,  74, 101, 112,\n",
              "         79,  99, 112,  81,  96, 184,  97,  77, 112, 172,  65, 119, 100,\n",
              "          0,   0],\n",
              "       [  0,   0,   0,  87, 143, 107, 112, 213,  70, 116, 230,  83, 154,\n",
              "        146, 150, 223,  65,  93, 196, 121,  89, 146, 193,  92, 108, 105,\n",
              "          0,   0],\n",
              "       [  0,   0,   0,  97, 125, 125, 124, 157,  60, 119, 250,  70, 180,\n",
              "        158, 134, 177, 163, 107, 225,  82,  85, 167, 178,  87, 123, 114,\n",
              "          0,   0],\n",
              "       [  0,   0,   0, 107, 102, 135, 142, 117,  78, 123, 229,  36, 121,\n",
              "        129, 119, 162, 223, 117, 154,  88,  79, 186, 164,  68, 116, 129,\n",
              "         22,   0],\n",
              "       [  0,   0,  14, 116, 107, 133, 154, 124,  71, 156, 193,  85, 181,\n",
              "         92, 121, 167, 194, 185, 119,  78, 101, 138, 163, 105, 118, 101,\n",
              "         27,   0],\n",
              "       [  0,   0,  15, 117, 108, 117, 180, 129,  76, 117, 189, 208, 211,\n",
              "        105, 161, 187, 190, 221,  97,  98, 107,  93, 118, 104, 124, 128,\n",
              "         39,   0],\n",
              "       [  0,   0,  15, 112,  96, 114, 167, 115, 101,  81, 181, 170, 216,\n",
              "        154, 181, 193, 176, 220,  72, 107,  93, 102,  97, 120, 129, 111,\n",
              "         50,   0],\n",
              "       [  0,   0,  23, 129, 110, 121, 178,  80,  85, 109,  70,  63,  76,\n",
              "        108,  92,  60,  68,  65, 105,  90, 116,  91, 105, 102, 105, 110,\n",
              "         40,   0],\n",
              "       [  0,   0,  38, 119, 102, 142, 158,  97, 104, 100, 121, 119, 107,\n",
              "        121, 120,  89,  96, 127, 101,  99, 107,  95, 139, 163,  98, 108,\n",
              "         53,   0],\n",
              "       [  0,   0,  21, 102,  97, 148,  93,  80, 124,  92,  97,  99, 109,\n",
              "        131, 126, 109, 107, 104,  97, 104,  92, 106,  76, 165, 124, 129,\n",
              "         63,   0],\n",
              "       [  0,   0,  39, 106, 111, 130,  72, 104,  85,  96,  97,  96, 104,\n",
              "        129, 116,  88,  96,  99, 101,  90, 116, 106,  44, 147, 127, 106,\n",
              "         42,   0],\n",
              "       [  0,   0,  45, 131, 158,  83,  51, 128,  86, 101, 108, 100, 110,\n",
              "        137, 123,  91,  93, 114, 102, 108, 106, 117,  33, 125, 137, 101,\n",
              "         52,   0],\n",
              "       [  0,   0,  43,  87, 123,  79,  58, 116, 110,  81, 105, 119, 120,\n",
              "        140, 124, 115, 125, 110,  90, 110,  83, 140,   8,  99, 152, 117,\n",
              "         69,   0],\n",
              "       [  0,   0,  49, 121, 155,  51,  42, 116,  95,  97,  95,  93, 108,\n",
              "        147, 117,  83,  90,  89, 104,  97,  93, 131,   0,  67, 153,  95,\n",
              "         57,   0],\n",
              "       [  0,   0,  42,  93, 143,  19,  49, 112,  89, 101, 107,  99, 104,\n",
              "        145, 135,  97, 108, 112,  96,  96,  99, 128,   0,  27, 152,  92,\n",
              "         62,   0],\n",
              "       [  0,   0,  58,  91, 143,  10,  34,  88,  44,  63,  72,  68,  64,\n",
              "         71,  70,  62,  69,  59,  55,  77,  71, 112,   0,  20, 138,  89,\n",
              "         65,   0]], dtype=uint8)"
            ]
          },
          "execution_count": 315,
          "metadata": {},
          "output_type": "execute_result"
        }
      ],
      "source": []
    },
    {
      "cell_type": "markdown",
      "metadata": {
        "id": "A76o5CZlT0U4"
      },
      "source": [
        "###8. Please plot the image of the index 500 in the testing dataset.\n"
      ]
    },
    {
      "cell_type": "code",
      "execution_count": null,
      "metadata": {
        "colab": {
          "base_uri": "https://localhost:8080/",
          "height": 282
        },
        "id": "qtlJgFYcmlA4",
        "outputId": "9730b608-ea4c-453c-9ddc-53e4c291e6e2"
      },
      "outputs": [
        {
          "data": {
            "text/plain": [
              "<function matplotlib.pyplot.show>"
            ]
          },
          "execution_count": 316,
          "metadata": {},
          "output_type": "execute_result"
        },
        {
          "data": {
            "image/png": "[encoded data removed]",
            "text/plain": [
              "<Figure size 432x288 with 1 Axes>"
            ]
          },
          "metadata": {
            "needs_background": "light"
          },
          "output_type": "display_data"
        }
      ],
      "source": []
    },
    {
      "cell_type": "markdown",
      "metadata": {
        "id": "YMIJFtODT6wI"
      },
      "source": [
        "###9. What is the label for the index 500 in the test_label and looking up in the above list, what does it mean?\n"
      ]
    },
    {
      "cell_type": "code",
      "execution_count": null,
      "metadata": {
        "colab": {
          "base_uri": "https://localhost:8080/"
        },
        "id": "Hd7CQb60mzAB",
        "outputId": "b09070be-c92c-41da-83ad-f243d0b2cdcb"
      },
      "outputs": [
        {
          "data": {
            "text/plain": [
              "2"
            ]
          },
          "execution_count": 317,
          "metadata": {},
          "output_type": "execute_result"
        }
      ],
      "source": []
    },
    {
      "cell_type": "markdown",
      "metadata": {
        "id": "WAZbnfNwm4S2"
      },
      "source": [
        "The label for index 500 is the number 2. based on our list shown above, we know that \"2\" represents a pullover. We can reasonbly confirm that to be correct based on the image after plotting the test_image array"
      ]
    },
    {
      "cell_type": "markdown",
      "metadata": {
        "id": "2HruivSWT_DB"
      },
      "source": [
        "###10. Please import models and layers from the keras library.\n"
      ]
    },
    {
      "cell_type": "code",
      "execution_count": null,
      "metadata": {
        "id": "hPYQHYFroR6Q"
      },
      "outputs": [],
      "source": []
    },
    {
      "cell_type": "markdown",
      "metadata": {
        "id": "4KJCcJCJUDfk"
      },
      "source": [
        "###11. Define a sequential model and call it myNetwork.\n"
      ]
    },
    {
      "cell_type": "code",
      "execution_count": null,
      "metadata": {
        "id": "EuaeVfhgoXme"
      },
      "outputs": [],
      "source": []
    },
    {
      "cell_type": "markdown",
      "metadata": {
        "id": "r4bghCzxUIcs"
      },
      "source": [
        "###12. Reshape the images from 28x28 to one column with 784 neurons (flattening) (use 2 methods, one from the book and one from the 20-minute video).\n"
      ]
    },
    {
      "cell_type": "markdown",
      "metadata": {
        "id": "T2sSfvXMtUNM"
      },
      "source": [
        "Book:"
      ]
    },
    {
      "cell_type": "code",
      "execution_count": null,
      "metadata": {
        "id": "2lhyKmDiob4v"
      },
      "outputs": [],
      "source": []
    },
    {
      "cell_type": "markdown",
      "metadata": {
        "id": "zu_IvrZVtVgn"
      },
      "source": [
        "Video:"
      ]
    },
    {
      "cell_type": "code",
      "execution_count": null,
      "metadata": {
        "id": "1q2DcrniolCC"
      },
      "outputs": [],
      "source": [
        "#layers.Flatten()(train_images)"
      ]
    },
    {
      "cell_type": "code",
      "execution_count": null,
      "metadata": {
        "colab": {
          "base_uri": "https://localhost:8080/"
        },
        "id": "dMLyUh0yo3w1",
        "outputId": "15aca58e-5205-45e2-ae65-db2f836f7992"
      },
      "outputs": [
        {
          "data": {
            "text/plain": [
              "(60000, 784)"
            ]
          },
          "execution_count": 322,
          "metadata": {},
          "output_type": "execute_result"
        }
      ],
      "source": []
    },
    {
      "cell_type": "code",
      "execution_count": null,
      "metadata": {
        "colab": {
          "base_uri": "https://localhost:8080/"
        },
        "id": "PurBDdsJo8Xw",
        "outputId": "e8f0ed84-eb20-4cc1-c7e4-b7e7608727f6"
      },
      "outputs": [
        {
          "data": {
            "text/plain": [
              "(10000, 784)"
            ]
          },
          "execution_count": 323,
          "metadata": {},
          "output_type": "execute_result"
        }
      ],
      "source": []
    },
    {
      "cell_type": "markdown",
      "metadata": {
        "id": "6HbNirjaUMox"
      },
      "source": [
        "###13. Also, please normalize the image by dividing the image by 255 (use 2 methods, one from the book and one from the 20-minute video).\n"
      ]
    },
    {
      "cell_type": "markdown",
      "metadata": {
        "id": "mQxF2OHRt5Rb"
      },
      "source": [
        "Book:"
      ]
    },
    {
      "cell_type": "code",
      "execution_count": null,
      "metadata": {
        "id": "70HaNHOtpCd2"
      },
      "outputs": [],
      "source": []
    },
    {
      "cell_type": "markdown",
      "metadata": {
        "id": "sTBvf799uLLs"
      },
      "source": [
        "Video:"
      ]
    },
    {
      "cell_type": "code",
      "execution_count": null,
      "metadata": {
        "id": "Hyexd8gJpReQ"
      },
      "outputs": [],
      "source": [
        "#utils.normalize(train_images, axis=1)\n"
      ]
    },
    {
      "cell_type": "code",
      "execution_count": null,
      "metadata": {
        "colab": {
          "base_uri": "https://localhost:8080/"
        },
        "id": "OBxlrkqdpiF0",
        "outputId": "ca22b967-2379-4521-e6fe-cade29386b3e"
      },
      "outputs": [
        {
          "data": {
            "text/plain": [
              "array([0.        , 0.        , 0.        , 0.        , 0.        ,\n",
              "       0.00019434, 0.00019434, 0.        , 0.        , 0.        ,\n",
              "       0.        , 0.01224339, 0.00544151, 0.        , 0.        ,\n",
              "       0.        , 0.00641321, 0.01651887, 0.        , 0.        ,\n",
              "       0.        , 0.        , 0.        , 0.        , 0.        ,\n",
              "       0.        , 0.        , 0.        , 0.        , 0.        ,\n",
              "       0.        , 0.        , 0.        , 0.00038868, 0.        ,\n",
              "       0.        , 0.00544151, 0.02448679, 0.04683584, 0.0495566 ,\n",
              "       0.0495566 , 0.0495566 , 0.0495566 , 0.0495566 , 0.0495566 ,\n",
              "       0.04897358, 0.04819622, 0.0215717 , 0.        , 0.        ,\n",
              "       0.        , 0.00038868, 0.        , 0.        , 0.        ,\n",
              "       0.        , 0.        , 0.        , 0.        , 0.        ,\n",
              "       0.00038868, 0.        , 0.        , 0.04003396, 0.04741886,\n",
              "       0.04877924, 0.04683584, 0.04469811, 0.04625282, 0.04294905,\n",
              "       0.03983962, 0.04469811, 0.0466415 , 0.04469811, 0.04644716,\n",
              "       0.04877924, 0.04528113, 0.03206603, 0.        , 0.        ,\n",
              "       0.00038868, 0.        , 0.        , 0.        , 0.        ,\n",
              "       0.        , 0.        , 0.00019434, 0.        , 0.        ,\n",
              "       0.03867358, 0.04877924, 0.04430943, 0.04547547, 0.04528113,\n",
              "       0.04586414, 0.04566981, 0.0476132 , 0.04800188, 0.04605848,\n",
              "       0.04547547, 0.04644716, 0.04469811, 0.04469811, 0.04566981,\n",
              "       0.0495566 , 0.03420377, 0.        , 0.        , 0.00019434,\n",
              "       0.        , 0.        , 0.        , 0.        , 0.        ,\n",
              "       0.        , 0.        , 0.01574151, 0.04936226, 0.04392075,\n",
              "       0.04430943, 0.04644716, 0.04605848, 0.04586414, 0.04547547,\n",
              "       0.04508679, 0.04528113, 0.04566981, 0.04566981, 0.04586414,\n",
              "       0.04644716, 0.04605848, 0.04528113, 0.04372641, 0.04780754,\n",
              "       0.01418679, 0.        , 0.        , 0.        , 0.        ,\n",
              "       0.        , 0.        , 0.00058302, 0.        , 0.        ,\n",
              "       0.0495566 , 0.04566981, 0.04644716, 0.04333773, 0.04547547,\n",
              "       0.04625282, 0.04586414, 0.04605848, 0.04586414, 0.04566981,\n",
              "       0.04566981, 0.04566981, 0.04566981, 0.04586414, 0.04566981,\n",
              "       0.04547547, 0.04469811, 0.04489245, 0.0495566 , 0.00466415,\n",
              "       0.        , 0.00077736, 0.        , 0.        , 0.        ,\n",
              "       0.        , 0.        , 0.03439811, 0.04644716, 0.04333773,\n",
              "       0.04936226, 0.04333773, 0.04508679, 0.04547547, 0.04547547,\n",
              "       0.04586414, 0.04586414, 0.04566981, 0.04566981, 0.04566981,\n",
              "       0.04566981, 0.04566981, 0.04547547, 0.04489245, 0.04528113,\n",
              "       0.04314339, 0.04780754, 0.01710188, 0.        , 0.00019434,\n",
              "       0.        , 0.        , 0.        , 0.        , 0.        ,\n",
              "       0.04547547, 0.04644716, 0.04450377, 0.0495566 , 0.04275471,\n",
              "       0.04508679, 0.04528113, 0.04508679, 0.04547547, 0.04566981,\n",
              "       0.04566981, 0.04566981, 0.04566981, 0.04566981, 0.04547547,\n",
              "       0.04528113, 0.04508679, 0.04469811, 0.04430943, 0.04936226,\n",
              "       0.02720754, 0.        , 0.        , 0.        , 0.        ,\n",
              "       0.        , 0.        , 0.        , 0.04372641, 0.0466415 ,\n",
              "       0.04392075, 0.0495566 , 0.04294905, 0.04411509, 0.04508679,\n",
              "       0.04430943, 0.04489245, 0.04469811, 0.04430943, 0.04450377,\n",
              "       0.04489245, 0.04469811, 0.04430943, 0.04430943, 0.04508679,\n",
              "       0.04333773, 0.04450377, 0.04741886, 0.04489245, 0.        ,\n",
              "       0.        , 0.        , 0.        , 0.        , 0.        ,\n",
              "       0.00913396, 0.0476132 , 0.04489245, 0.04547547, 0.04839056,\n",
              "       0.04450377, 0.04294905, 0.04450377, 0.04372641, 0.04450377,\n",
              "       0.04411509, 0.04392075, 0.04411509, 0.04430943, 0.04411509,\n",
              "       0.04430943, 0.04450377, 0.04430943, 0.04353207, 0.04780754,\n",
              "       0.0466415 , 0.04411509, 0.        , 0.        , 0.        ,\n",
              "       0.        , 0.        , 0.        , 0.00991132, 0.04819622,\n",
              "       0.04469811, 0.0476132 , 0.04780754, 0.04469811, 0.04392075,\n",
              "       0.04469811, 0.04411509, 0.04469811, 0.04450377, 0.04430943,\n",
              "       0.04450377, 0.04469811, 0.04430943, 0.04430943, 0.04489245,\n",
              "       0.04372641, 0.04411509, 0.04703018, 0.04605848, 0.0495566 ,\n",
              "       0.        , 0.        , 0.        , 0.        , 0.        ,\n",
              "       0.        , 0.0196283 , 0.04916792, 0.04450377, 0.04800188,\n",
              "       0.04683584, 0.04294905, 0.04528113, 0.04430943, 0.04411509,\n",
              "       0.04450377, 0.04430943, 0.04411509, 0.04430943, 0.04469811,\n",
              "       0.04411509, 0.04469811, 0.04547547, 0.04372641, 0.04450377,\n",
              "       0.04877924, 0.04450377, 0.04722452, 0.01068868, 0.        ,\n",
              "       0.        , 0.        , 0.        , 0.        , 0.01982264,\n",
              "       0.0495566 , 0.04411509, 0.04703018, 0.04683584, 0.04294905,\n",
              "       0.04547547, 0.04333773, 0.04469811, 0.04430943, 0.04489245,\n",
              "       0.04450377, 0.04489245, 0.04489245, 0.04411509, 0.04450377,\n",
              "       0.04683584, 0.04256037, 0.04586414, 0.04936226, 0.04372641,\n",
              "       0.0485849 , 0.03245471, 0.        , 0.        , 0.        ,\n",
              "       0.        , 0.        , 0.01749056, 0.0495566 , 0.04450377,\n",
              "       0.04586414, 0.04489245, 0.04314339, 0.04586414, 0.04333773,\n",
              "       0.04489245, 0.04450377, 0.04489245, 0.04450377, 0.04489245,\n",
              "       0.04489245, 0.04430943, 0.04353207, 0.0476132 , 0.04236603,\n",
              "       0.04722452, 0.04644716, 0.04411509, 0.04741886, 0.03400943,\n",
              "       0.        , 0.        , 0.        , 0.        , 0.        ,\n",
              "       0.04119999, 0.0485849 , 0.04372641, 0.04586414, 0.04839056,\n",
              "       0.04450377, 0.04605848, 0.04333773, 0.04489245, 0.04450377,\n",
              "       0.04489245, 0.04450377, 0.04489245, 0.04489245, 0.04469811,\n",
              "       0.04294905, 0.04722452, 0.04372641, 0.04819622, 0.04469811,\n",
              "       0.04586414, 0.04547547, 0.0495566 , 0.00019434, 0.        ,\n",
              "       0.        , 0.        , 0.        , 0.0476132 , 0.04722452,\n",
              "       0.04508679, 0.04722452, 0.04236603, 0.04430943, 0.04625282,\n",
              "       0.04314339, 0.04489245, 0.04450377, 0.04489245, 0.04450377,\n",
              "       0.04489245, 0.04489245, 0.04469811, 0.04314339, 0.04605848,\n",
              "       0.04605848, 0.04897358, 0.04450377, 0.04644716, 0.0466415 ,\n",
              "       0.04333773, 0.        , 0.        , 0.        , 0.        ,\n",
              "       0.00524717, 0.0495566 , 0.04566981, 0.04703018, 0.04605848,\n",
              "       0.04197735, 0.04469811, 0.04586414, 0.04353207, 0.04450377,\n",
              "       0.04411509, 0.04528113, 0.04528113, 0.04528113, 0.04469811,\n",
              "       0.04430943, 0.04353207, 0.04469811, 0.0476132 , 0.04800188,\n",
              "       0.04294905, 0.04722452, 0.04644716, 0.04897358, 0.        ,\n",
              "       0.        , 0.        , 0.        , 0.01710188, 0.0495566 ,\n",
              "       0.04508679, 0.04819622, 0.04586414, 0.04042264, 0.04547547,\n",
              "       0.04489245, 0.04333773, 0.04411509, 0.04392075, 0.04528113,\n",
              "       0.04508679, 0.04508679, 0.04469811, 0.04430943, 0.04353207,\n",
              "       0.04353207, 0.04566981, 0.04528113, 0.04547547, 0.04800188,\n",
              "       0.04566981, 0.0495566 , 0.        , 0.        , 0.        ,\n",
              "       0.        , 0.01613019, 0.0495566 , 0.04372641, 0.0485849 ,\n",
              "       0.04605848, 0.04353207, 0.04586414, 0.04450377, 0.04372641,\n",
              "       0.04372641, 0.04411509, 0.04566981, 0.04450377, 0.04489245,\n",
              "       0.04469811, 0.04469811, 0.04411509, 0.04294905, 0.04411509,\n",
              "       0.04294905, 0.04644716, 0.0485849 , 0.04489245, 0.0495566 ,\n",
              "       0.        , 0.        , 0.        , 0.        , 0.00388679,\n",
              "       0.0495566 , 0.04353207, 0.04819622, 0.04547547, 0.04392075,\n",
              "       0.04508679, 0.04314339, 0.04372641, 0.04353207, 0.04489245,\n",
              "       0.04625282, 0.04392075, 0.04469811, 0.04430943, 0.04469811,\n",
              "       0.04469811, 0.04294905, 0.04450377, 0.04372641, 0.04741886,\n",
              "       0.04780754, 0.04469811, 0.0495566 , 0.        , 0.        ,\n",
              "       0.        , 0.        , 0.01846226, 0.0495566 , 0.04236603,\n",
              "       0.04703018, 0.0495566 , 0.04508679, 0.04392075, 0.04353207,\n",
              "       0.04450377, 0.04430943, 0.04430943, 0.04508679, 0.04430943,\n",
              "       0.04450377, 0.04489245, 0.04528113, 0.04508679, 0.04392075,\n",
              "       0.04294905, 0.04353207, 0.04800188, 0.04741886, 0.04430943,\n",
              "       0.0495566 , 0.        , 0.        , 0.        , 0.        ,\n",
              "       0.03245471, 0.0495566 , 0.04139433, 0.04566981, 0.0495566 ,\n",
              "       0.01574151, 0.0476132 , 0.04877924, 0.04625282, 0.04586414,\n",
              "       0.04469811, 0.04450377, 0.04469811, 0.04450377, 0.04469811,\n",
              "       0.04489245, 0.04625282, 0.0466415 , 0.0495566 , 0.0373132 ,\n",
              "       0.0495566 , 0.04644716, 0.04430943, 0.0495566 , 0.00446981,\n",
              "       0.        , 0.        , 0.        , 0.03362075, 0.04703018,\n",
              "       0.04353207, 0.04528113, 0.0495566 , 0.        , 0.02643019,\n",
              "       0.04392075, 0.04644716, 0.0495566 , 0.04450377, 0.04586414,\n",
              "       0.04586414, 0.04547547, 0.04528113, 0.04430943, 0.04877924,\n",
              "       0.04819622, 0.03886792, 0.01574151, 0.0495566 , 0.04605848,\n",
              "       0.04372641, 0.0495566 , 0.0196283 , 0.        , 0.        ,\n",
              "       0.        , 0.03342641, 0.0495566 , 0.04392075, 0.04528113,\n",
              "       0.0495566 , 0.        , 0.        , 0.        , 0.        ,\n",
              "       0.        , 0.00155472, 0.00408113, 0.00427547, 0.00408113,\n",
              "       0.00388679, 0.00272075, 0.        , 0.        , 0.        ,\n",
              "       0.        , 0.0495566 , 0.04625282, 0.04450377, 0.04780754,\n",
              "       0.03459245, 0.        , 0.        , 0.        , 0.00310943,\n",
              "       0.0495566 , 0.04586414, 0.04625282, 0.04897358, 0.        ,\n",
              "       0.        , 0.        , 0.        , 0.        , 0.        ,\n",
              "       0.        , 0.        , 0.        , 0.        , 0.        ,\n",
              "       0.        , 0.        , 0.        , 0.        , 0.04314339,\n",
              "       0.04741886, 0.04314339, 0.04936226, 0.02312641, 0.        ,\n",
              "       0.        , 0.        , 0.        , 0.00583019, 0.04430943,\n",
              "       0.04703018, 0.03167735, 0.        , 0.        , 0.        ,\n",
              "       0.        , 0.00038868, 0.00077736, 0.00116604, 0.0009717 ,\n",
              "       0.0009717 , 0.00077736, 0.00077736, 0.00038868, 0.        ,\n",
              "       0.00019434, 0.        , 0.02934528, 0.04877924, 0.04566981,\n",
              "       0.03498113, 0.        , 0.        , 0.        , 0.        ,\n",
              "       0.        , 0.        , 0.04547547, 0.0495566 , 0.03711886,\n",
              "       0.        , 0.00213774, 0.        , 0.        , 0.        ,\n",
              "       0.        , 0.        , 0.        , 0.        , 0.        ,\n",
              "       0.        , 0.        , 0.        , 0.00077736, 0.        ,\n",
              "       0.02001698, 0.04780754, 0.04800188, 0.01399245, 0.        ,\n",
              "       0.        , 0.        , 0.        , 0.        , 0.00019434,\n",
              "       0.01846226, 0.01496415, 0.01010566, 0.        , 0.00077736,\n",
              "       0.        , 0.        , 0.        , 0.        , 0.        ,\n",
              "       0.        , 0.        , 0.        , 0.        , 0.        ,\n",
              "       0.        , 0.00058302, 0.        , 0.01593585, 0.04605848,\n",
              "       0.04489245, 0.01360377, 0.        , 0.        ])"
            ]
          },
          "execution_count": 326,
          "metadata": {},
          "output_type": "execute_result"
        }
      ],
      "source": []
    },
    {
      "cell_type": "markdown",
      "metadata": {
        "id": "K5oYZZNZUVE_"
      },
      "source": [
        "###14. Add one hidden layer that has 512 neurons, using ‘relu’ activation function.\n"
      ]
    },
    {
      "cell_type": "code",
      "execution_count": null,
      "metadata": {
        "id": "4AmuYPV0pcj1"
      },
      "outputs": [],
      "source": []
    },
    {
      "cell_type": "markdown",
      "metadata": {
        "id": "j00Pdbk7UYxW"
      },
      "source": [
        "###15. Add another hidden layer that has 128 neurons, using ‘relu’ activation function.\n"
      ]
    },
    {
      "cell_type": "code",
      "execution_count": null,
      "metadata": {
        "id": "P-BgF-lvps5m"
      },
      "outputs": [],
      "source": []
    },
    {
      "cell_type": "markdown",
      "metadata": {
        "id": "EGY60vKmUe6_"
      },
      "source": [
        "###16. Add the last layer as a 10-neuron dense layer that uses the ‘softmax’ as the activation function. Why we use softmax for the last layer? How does it work under the hood?"
      ]
    },
    {
      "cell_type": "code",
      "execution_count": null,
      "metadata": {
        "id": "dOTmDDPLp484"
      },
      "outputs": [],
      "source": []
    },
    {
      "cell_type": "markdown",
      "metadata": {
        "id": "SdOilEvA0VOL"
      },
      "source": [
        "Softmax is used as the final layer because it returns a probablity distribution and helps the program confidently make predictions. It does so by turning all of the numbers, or values, into individual probabilities, then adds them by 1, and picks the highest probability out of that."
      ]
    },
    {
      "cell_type": "markdown",
      "metadata": {
        "id": "791Jz9xjUptF"
      },
      "source": [
        "###17. Use the following two settings for the compiler and run them separately and see what the differences are."
      ]
    },
    {
      "cell_type": "markdown",
      "metadata": {
        "id": "rsR47VPiscNs"
      },
      "source": [
        "*Quick note: as 18 and 19 are basically parts A and B for question 17 I will be doing all the coding under those questions.*"
      ]
    },
    {
      "cell_type": "markdown",
      "metadata": {
        "id": "xzAJVX6rUvLW"
      },
      "source": [
        "###18. Optimizer   adam,  loss 'sparse_categorical_crossentropy', metrics[‘accuracy’]"
      ]
    },
    {
      "cell_type": "code",
      "execution_count": null,
      "metadata": {
        "id": "LYwmVvkgsz-Z"
      },
      "outputs": [],
      "source": []
    },
    {
      "cell_type": "code",
      "execution_count": null,
      "metadata": {
        "colab": {
          "base_uri": "https://localhost:8080/"
        },
        "id": "e25cccawuM6a",
        "outputId": "21d62015-575c-4676-9217-59e0bf770596"
      },
      "outputs": [
        {
          "name": "stdout",
          "output_type": "stream",
          "text": [
            "Epoch 1/10\n",
            "1875/1875 [==============================] - 14s 7ms/step - loss: 0.4958 - accuracy: 0.8187\n",
            "Epoch 2/10\n",
            "1875/1875 [==============================] - 11s 6ms/step - loss: 0.3565 - accuracy: 0.8691\n",
            "Epoch 3/10\n",
            "1875/1875 [==============================] - 11s 6ms/step - loss: 0.3201 - accuracy: 0.8806\n",
            "Epoch 4/10\n",
            "1875/1875 [==============================] - 11s 6ms/step - loss: 0.2962 - accuracy: 0.8892\n",
            "Epoch 5/10\n",
            "1875/1875 [==============================] - 11s 6ms/step - loss: 0.2771 - accuracy: 0.8953\n",
            "Epoch 6/10\n",
            "1875/1875 [==============================] - 12s 6ms/step - loss: 0.2594 - accuracy: 0.9024\n",
            "Epoch 7/10\n",
            "1875/1875 [==============================] - 11s 6ms/step - loss: 0.2473 - accuracy: 0.9074\n",
            "Epoch 8/10\n",
            "1875/1875 [==============================] - 11s 6ms/step - loss: 0.2337 - accuracy: 0.9107\n",
            "Epoch 9/10\n",
            "1875/1875 [==============================] - 11s 6ms/step - loss: 0.2262 - accuracy: 0.9155\n",
            "Epoch 10/10\n",
            "1875/1875 [==============================] - 11s 6ms/step - loss: 0.2143 - accuracy: 0.9193\n"
          ]
        },
        {
          "data": {
            "text/plain": [
              "<keras.callbacks.History at 0x7f05682eb590>"
            ]
          },
          "execution_count": 331,
          "metadata": {},
          "output_type": "execute_result"
        }
      ],
      "source": []
    },
    {
      "cell_type": "code",
      "execution_count": null,
      "metadata": {
        "colab": {
          "base_uri": "https://localhost:8080/"
        },
        "id": "xlZqqP1kup0m",
        "outputId": "a8bb35d8-a251-4571-fb9f-72451b86e428"
      },
      "outputs": [
        {
          "name": "stdout",
          "output_type": "stream",
          "text": [
            "313/313 [==============================] - 1s 3ms/step - loss: 0.3523 - accuracy: 0.8845\n"
          ]
        }
      ],
      "source": []
    },
    {
      "cell_type": "markdown",
      "metadata": {
        "id": "mfyHZJkGU8Dr"
      },
      "source": [
        "###19. Optimizer   rmsprop,  loss 'categorical_crossentropy', metrics[‘accuracy’]"
      ]
    },
    {
      "cell_type": "code",
      "execution_count": null,
      "metadata": {
        "id": "80RA0EhK0fMG"
      },
      "outputs": [],
      "source": []
    },
    {
      "cell_type": "code",
      "execution_count": null,
      "metadata": {
        "id": "aEAmcWZA0gnh"
      },
      "outputs": [],
      "source": []
    },
    {
      "cell_type": "code",
      "execution_count": null,
      "metadata": {
        "id": "1hfcIKze0h_L"
      },
      "outputs": [],
      "source": []
    },
    {
      "cell_type": "code",
      "execution_count": null,
      "metadata": {
        "id": "ypFIxIUg0kKk"
      },
      "outputs": [],
      "source": []
    },
    {
      "cell_type": "code",
      "execution_count": null,
      "metadata": {
        "colab": {
          "base_uri": "https://localhost:8080/"
        },
        "id": "px3yT0VLuzrO",
        "outputId": "7a297b6f-fb43-41cf-fad0-298a4bf1c93a"
      },
      "outputs": [
        {
          "name": "stdout",
          "output_type": "stream",
          "text": [
            "Epoch 1/10\n",
            "469/469 [==============================] - 6s 13ms/step - loss: 0.5805 - accuracy: 0.7910\n",
            "Epoch 2/10\n",
            "469/469 [==============================] - 6s 12ms/step - loss: 0.4016 - accuracy: 0.8526\n",
            "Epoch 3/10\n",
            "469/469 [==============================] - 6s 12ms/step - loss: 0.3558 - accuracy: 0.8692\n",
            "Epoch 4/10\n",
            "469/469 [==============================] - 6s 12ms/step - loss: 0.3265 - accuracy: 0.8785\n",
            "Epoch 5/10\n",
            "469/469 [==============================] - 6s 13ms/step - loss: 0.3047 - accuracy: 0.8870\n",
            "Epoch 6/10\n",
            "469/469 [==============================] - 6s 13ms/step - loss: 0.2881 - accuracy: 0.8934\n",
            "Epoch 7/10\n",
            "469/469 [==============================] - 6s 13ms/step - loss: 0.2736 - accuracy: 0.8974\n",
            "Epoch 8/10\n",
            "469/469 [==============================] - 6s 13ms/step - loss: 0.2600 - accuracy: 0.9032\n",
            "Epoch 9/10\n",
            "469/469 [==============================] - 6s 12ms/step - loss: 0.2491 - accuracy: 0.9056\n",
            "Epoch 10/10\n",
            "469/469 [==============================] - 6s 12ms/step - loss: 0.2401 - accuracy: 0.9092\n"
          ]
        },
        {
          "data": {
            "text/plain": [
              "<keras.callbacks.History at 0x7f056819b650>"
            ]
          },
          "execution_count": 337,
          "metadata": {},
          "output_type": "execute_result"
        }
      ],
      "source": []
    },
    {
      "cell_type": "code",
      "execution_count": null,
      "metadata": {
        "colab": {
          "base_uri": "https://localhost:8080/"
        },
        "id": "QGSczmp_wn40",
        "outputId": "6ec38391-542c-45d8-d36d-aea20dc44d16"
      },
      "outputs": [
        {
          "name": "stdout",
          "output_type": "stream",
          "text": [
            "313/313 [==============================] - 1s 3ms/step - loss: 0.3353 - accuracy: 0.8770\n"
          ]
        }
      ],
      "source": []
    },
    {
      "cell_type": "markdown",
      "metadata": {
        "id": "eXNykEsHVEEE"
      },
      "source": [
        "###20. Now after the compilation, please try to find the pattern using the fit command. The epochs need to be 10 for this example."
      ]
    },
    {
      "cell_type": "markdown",
      "metadata": {
        "id": "uxqLlQ5IVG2q"
      },
      "source": [
        "###21. How do you compare the fashion_MNIST with what we learned in the class using the MNIST? What can we infer from the differences in the accuracy? What could be the reasons for that?"
      ]
    },
    {
      "cell_type": "markdown",
      "metadata": {
        "id": "FICN-zfNVNXS"
      },
      "source": [
        "###22. Use the evaluate to calculate the achieved accuracy and loss over the test images and labels. Do we have overfitting?"
      ]
    },
    {
      "cell_type": "markdown",
      "source": [
        "#Deliverable:\n",
        "Please note that we need two separate components to submit for the assignment 01.\n",
        "\n",
        "##Part A:\n",
        "An ipynb file that contains all the code and please mention the number that belongs to the question, e.g.\n",
        "\n",
        "#01 from keras.datasets import fashion_mnist\n",
        "\n",
        "I suggest using the Google Colab, but please choose your favorite platform. Every question has 0.25 and it provides five out of total ten marks for the assignment.\n",
        "1 mark belongs to the format, and if we do not mention #01 for question one and so on, we miss the formatting mark.\n",
        "\n",
        "##Part B:\n",
        "Please record and upload a video to YouTube, describing all you have done in 5 to 10 minutes. If you go beyond 10 minutes, it is fine, but any code-scrolling and not proper explanation receives Zero. Then, please mention the uploaded URL in your comment box of the submission folder or submit a notepad text document that contains the link to the uploaded YouTube video.\n",
        "\n",
        "##Summary:\n",
        "##In short, what we need to submit are:\n",
        "##a)\tAn ipynb file that contains all the code, and they need to be numbered. (5 marks)\n",
        "\n",
        "##b)\tMentioning the YouTube URL in the comment part of the submission. (5 marks)\n",
        "\n",
        "##IMPORTANT: Without video submission the mark is Zero.\n",
        "\n",
        "All my best,\n",
        "\n",
        "Reza\n"
      ],
      "metadata": {
        "id": "eLzi8I9Nmu6U"
      }
    },
    {
      "cell_type": "code",
      "source": [],
      "metadata": {
        "id": "Kh9IbwAfnK3g"
      },
      "execution_count": null,
      "outputs": []
    }
  ],
  "metadata": {
    "colab": {
      "provenance": []
    },
    "kernelspec": {
      "display_name": "Python 3",
      "name": "python3"
    },
    "language_info": {
      "name": "python"
    }
  },
  "nbformat": 4,
  "nbformat_minor": 0
}